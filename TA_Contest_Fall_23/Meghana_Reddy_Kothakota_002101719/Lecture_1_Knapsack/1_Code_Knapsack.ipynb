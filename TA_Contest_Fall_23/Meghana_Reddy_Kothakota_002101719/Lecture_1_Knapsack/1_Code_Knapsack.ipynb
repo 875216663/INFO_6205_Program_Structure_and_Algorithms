{
  "nbformat": 4,
  "nbformat_minor": 0,
  "metadata": {
    "colab": {
      "provenance": []
    },
    "kernelspec": {
      "name": "python3",
      "display_name": "Python 3"
    },
    "language_info": {
      "name": "python"
    }
  },
  "cells": [
    {
      "cell_type": "code",
      "execution_count": 2,
      "metadata": {
        "colab": {
          "base_uri": "https://localhost:8080/"
        },
        "id": "dnyHGnUYS77p",
        "outputId": "5cea1abb-b99c-41c9-c6f3-33709020ffe6"
      },
      "outputs": [
        {
          "output_type": "stream",
          "name": "stdout",
          "text": [
            "220\n"
          ]
        }
      ],
      "source": [
        "# Recursion Approach for 0/1 Knapsack Problem:\n",
        "\n",
        "def knapSack(W, wt, val, n):\n",
        "\n",
        "    # Base Case\n",
        "    if n == 0 or W == 0:\n",
        "        return 0\n",
        "\n",
        "    # If weight of the nth item is\n",
        "    # more than Knapsack of capacity W,\n",
        "    # then this item cannot be included\n",
        "    # in the optimal solution\n",
        "    if (wt[n-1] > W):\n",
        "        return knapSack(W, wt, val, n-1)\n",
        "\n",
        "    # return the maximum of two cases:\n",
        "    # (1) nth item included\n",
        "    # (2) not included\n",
        "    else:\n",
        "        return max(\n",
        "            val[n-1] + knapSack(\n",
        "                W-wt[n-1], wt, val, n-1),\n",
        "            knapSack(W, wt, val, n-1))\n",
        "\n",
        "# end of function knapSack\n",
        "\n",
        "\n",
        "# Main\n",
        "if __name__ == '__main__':\n",
        "    profit = [60, 100, 120]\n",
        "    weight = [10, 20, 30]\n",
        "    W = 50\n",
        "    n = len(profit)\n",
        "    print(knapSack(W, weight, profit, n))\n",
        "\n",
        "\n",
        "\n"
      ]
    },
    {
      "cell_type": "code",
      "source": [
        "# A Dynamic Programming based Python\n",
        "# Program for 0-1 Knapsack problem\n",
        "# Returns the maximum value that can be put in a knapsack of capacity W\n",
        "\n",
        "\n",
        "def knapSack(W, wt, val, n):\n",
        "\tK = [[0 for x in range(W + 1)] for x in range(n + 1)]\n",
        "\n",
        "\t# Build table K[][] in bottom up manner\n",
        "\tfor i in range(n + 1):\n",
        "\t\tfor w in range(W + 1):\n",
        "\t\t\tif i == 0 or w == 0:\n",
        "\t\t\t\tK[i][w] = 0\n",
        "\t\t\telif wt[i-1] <= w:\n",
        "\t\t\t\tK[i][w] = max(val[i-1]\n",
        "\t\t\t\t\t\t\t+ K[i-1][w-wt[i-1]],\n",
        "\t\t\t\t\t\t\tK[i-1][w])\n",
        "\t\t\telse:\n",
        "\t\t\t\tK[i][w] = K[i-1][w]\n",
        "\n",
        "\treturn K[n][W]\n",
        "\n",
        "\n",
        "# Main\n",
        "if __name__ == '__main__':\n",
        "\tprofit = [60, 100, 120]\n",
        "\tweight = [10, 20, 30]\n",
        "\tW = 50\n",
        "\tn = len(profit)\n",
        "\tprint(knapSack(W, weight, profit, n))\n",
        "\n"
      ],
      "metadata": {
        "colab": {
          "base_uri": "https://localhost:8080/"
        },
        "id": "07jwzEuMT4_9",
        "outputId": "2cbb6ce2-bad0-44b4-afdd-a90fd621b4e8"
      },
      "execution_count": 3,
      "outputs": [
        {
          "output_type": "stream",
          "name": "stdout",
          "text": [
            "220\n"
          ]
        }
      ]
    }
  ]
}