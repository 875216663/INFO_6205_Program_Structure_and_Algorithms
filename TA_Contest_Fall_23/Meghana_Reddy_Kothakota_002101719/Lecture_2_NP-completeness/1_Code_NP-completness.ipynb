{
  "cells": [
    {
      "cell_type": "code",
      "execution_count": 1,
      "metadata": {
        "colab": {
          "base_uri": "https://localhost:8080/"
        },
        "id": "tDvNGTIHZCju",
        "outputId": "58b7c248-ee1c-48ed-dabb-b484deb8d371"
      },
      "outputs": [
        {
          "name": "stdout",
          "output_type": "stream",
          "text": [
            "Element 7 found at index 6\n"
          ]
        }
      ],
      "source": [
        "#P example- binary search\n",
        "def binary_search(arr, target):\n",
        "    left, right = 0, len(arr) - 1\n",
        "\n",
        "    while left <= right:\n",
        "        mid = left + (right - left) // 2  # Calculate the middle index\n",
        "\n",
        "        if arr[mid] == target:\n",
        "            return mid  # Target found, return the index\n",
        "        elif arr[mid] < target:\n",
        "            left = mid + 1  # Target is in the right half\n",
        "        else:\n",
        "            right = mid - 1  # Target is in the left half\n",
        "\n",
        "    return -1  # Target not found\n",
        "\n",
        "if __name__ == \"__main__\":\n",
        "    arr = [1, 2, 3, 4, 5, 6, 7, 8, 9, 10]\n",
        "    target = 7\n",
        "\n",
        "    result = binary_search(arr, target)\n",
        "\n",
        "    if result != -1:\n",
        "        print(f\"Element {target} found at index {result}\")\n",
        "    else:\n",
        "        print(f\"Element {target} not found in the array\")\n"
      ]
    },
    {
      "cell_type": "code",
      "execution_count": 6,
      "metadata": {
        "colab": {
          "base_uri": "https://localhost:8080/"
        },
        "id": "pHfLmbgZaSPA",
        "outputId": "7573bca6-ed65-48e9-961a-ae437035540d"
      },
      "outputs": [
        {
          "name": "stdout",
          "output_type": "stream",
          "text": [
            "Subset with the given sum exists.\n"
          ]
        }
      ],
      "source": [
        "#NP example Subset sum\n",
        "def is_subset_sum(nums, target):\n",
        "    n = len(nums)\n",
        "\n",
        "    # Create a 2D DP table, where dp[i][j] will be True if there is a subset of\n",
        "    # nums[0..i-1] with a sum equal to j.\n",
        "    dp = [[False for _ in range(target + 1)] for _ in range(n + 1)]\n",
        "\n",
        "    # If the target sum is 0, there's always an empty subset that sums to 0.\n",
        "    for i in range(n + 1):\n",
        "        dp[i][0] = True\n",
        "\n",
        "    for i in range(1, n + 1):\n",
        "        for j in range(1, target + 1):\n",
        "            # If the current element is greater than the target, it can't be included.\n",
        "            if nums[i - 1] > j:\n",
        "                dp[i][j] = dp[i - 1][j]\n",
        "            else:\n",
        "                # Check if it's possible either to include or exclude the current element.\n",
        "                dp[i][j] = dp[i - 1][j] or dp[i - 1][j - nums[i - 1]]\n",
        "\n",
        "    return dp[n][target]\n",
        "\n",
        "\n",
        "\n",
        "if __name__ == \"__main__\":\n",
        "    nums = [3, 34, 4, 12, 5, 2]\n",
        "    target = 9\n",
        "\n",
        "    if is_subset_sum(nums, target):\n",
        "        print(\"Subset with the given sum exists.\")\n",
        "    else:\n",
        "        print(\"No subset with the given sum exists.\")\n"
      ]
    },
    {
      "cell_type": "code",
      "execution_count": 2,
      "metadata": {
        "colab": {
          "base_uri": "https://localhost:8080/"
        },
        "id": "07jwzEuMT4_9",
        "outputId": "4e541b7f-4a0c-4f21-89e7-342e7439b461"
      },
      "outputs": [
        {
          "name": "stdout",
          "output_type": "stream",
          "text": [
            "220\n"
          ]
        }
      ],
      "source": [
        "#NP Hard example KnapSack\n",
        "# A Dynamic Programming based Python\n",
        "# Program for 0-1 Knapsack problem\n",
        "# Returns the maximum value that can be put in a knapsack of capacity W\n",
        "\n",
        "\n",
        "def knapSack(W, wt, val, n):\n",
        "\tK = [[0 for x in range(W + 1)] for x in range(n + 1)]\n",
        "\n",
        "\t# Build table K[][] in bottom up manner\n",
        "\tfor i in range(n + 1):\n",
        "\t\tfor w in range(W + 1):\n",
        "\t\t\tif i == 0 or w == 0:\n",
        "\t\t\t\tK[i][w] = 0\n",
        "\t\t\telif wt[i-1] <= w:\n",
        "\t\t\t\tK[i][w] = max(val[i-1]\n",
        "\t\t\t\t\t\t\t+ K[i-1][w-wt[i-1]],\n",
        "\t\t\t\t\t\t\tK[i-1][w])\n",
        "\t\t\telse:\n",
        "\t\t\t\tK[i][w] = K[i-1][w]\n",
        "\n",
        "\treturn K[n][W]\n",
        "\n",
        "\n",
        "# Main\n",
        "if __name__ == '__main__':\n",
        "\tprofit = [60, 100, 120]\n",
        "\tweight = [10, 20, 30]\n",
        "\tW = 50\n",
        "\tn = len(profit)\n",
        "\tprint(knapSack(W, weight, profit, n))\n",
        "\n"
      ]
    }
  ],
  "metadata": {
    "colab": {
      "provenance": []
    },
    "kernelspec": {
      "display_name": "Python 3",
      "name": "python3"
    },
    "language_info": {
      "name": "python"
    }
  },
  "nbformat": 4,
  "nbformat_minor": 0
}
