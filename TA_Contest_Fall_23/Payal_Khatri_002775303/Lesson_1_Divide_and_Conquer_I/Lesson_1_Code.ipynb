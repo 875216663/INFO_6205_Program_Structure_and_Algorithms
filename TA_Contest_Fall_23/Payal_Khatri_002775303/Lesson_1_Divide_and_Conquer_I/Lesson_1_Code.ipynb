{
  "nbformat": 4,
  "nbformat_minor": 0,
  "metadata": {
    "colab": {
      "provenance": []
    },
    "kernelspec": {
      "name": "python3",
      "display_name": "Python 3"
    },
    "language_info": {
      "name": "python"
    }
  },
  "cells": [
    {
      "cell_type": "markdown",
      "source": [
        "MERGE SORT"
      ],
      "metadata": {
        "id": "relMlZZIUVRr"
      }
    },
    {
      "cell_type": "code",
      "execution_count": 4,
      "metadata": {
        "colab": {
          "base_uri": "https://localhost:8080/"
        },
        "id": "VS7yRslVT7o4",
        "outputId": "473db21d-2947-4a6e-8ed4-eaadb10faf81"
      },
      "outputs": [
        {
          "output_type": "stream",
          "name": "stdout",
          "text": [
            "Unsorted Array\n",
            "[50, 62, 100, 43, 12, 11, 48, 5, 61]\n",
            "Sorted Array\n",
            "[5, 11, 12, 43, 48, 50, 61, 62, 100]\n"
          ]
        }
      ],
      "source": [
        "def mergeSort(myList):\n",
        "    if len(myList) > 1:\n",
        "        mid = len(myList) // 2\n",
        "        left = myList[:mid]\n",
        "        right = myList[mid:]\n",
        "\n",
        "        # Recursive call on each half\n",
        "        mergeSort(left)\n",
        "        mergeSort(right)\n",
        "\n",
        "        # Two iterators for traversing the two halves\n",
        "        i = 0\n",
        "        j = 0\n",
        "\n",
        "        # Iterator for the main list\n",
        "        k = 0\n",
        "\n",
        "        while i < len(left) and j < len(right):\n",
        "            if left[i] <= right[j]:\n",
        "              # The value from the left half has been used\n",
        "              myList[k] = left[i]\n",
        "              # Move the iterator forward\n",
        "              i += 1\n",
        "            else:\n",
        "                myList[k] = right[j]\n",
        "                j += 1\n",
        "            # Move to the next slot\n",
        "            k += 1\n",
        "\n",
        "        # For all the remaining values\n",
        "        while i < len(left):\n",
        "            myList[k] = left[i]\n",
        "            i += 1\n",
        "            k += 1\n",
        "\n",
        "        while j < len(right):\n",
        "            myList[k]=right[j]\n",
        "            j += 1\n",
        "            k += 1\n",
        "\n",
        "myList = [50,62,100,43,12,11,48,5,61]\n",
        "print(\"Unsorted Array\")\n",
        "print(myList)\n",
        "print(\"Sorted Array\")\n",
        "mergeSort(myList)\n",
        "print(myList)\n"
      ]
    },
    {
      "cell_type": "markdown",
      "source": [
        "QUICK SORT"
      ],
      "metadata": {
        "id": "h04wski5U7BG"
      }
    },
    {
      "cell_type": "code",
      "source": [
        "# Quick sort in Python\n",
        "\n",
        "# function to find the partition position\n",
        "def partition(array, low, high):\n",
        "\n",
        "  # choose the rightmost element as pivot\n",
        "  pivot = array[high]\n",
        "\n",
        "  # pointer for greater element\n",
        "  i = low - 1\n",
        "\n",
        "  # traverse through all elements\n",
        "  # compare each element with pivot\n",
        "  for j in range(low, high):\n",
        "    if array[j] <= pivot:\n",
        "      # if element smaller than pivot is found\n",
        "      # swap it with the greater element pointed by i\n",
        "      i = i + 1\n",
        "\n",
        "      # swapping element at i with element at j\n",
        "      (array[i], array[j]) = (array[j], array[i])\n",
        "\n",
        "  # swap the pivot element with the greater element specified by i\n",
        "  (array[i + 1], array[high]) = (array[high], array[i + 1])\n",
        "\n",
        "  # return the position from where partition is done\n",
        "  return i + 1\n",
        "\n",
        "# function to perform quicksort\n",
        "def quickSort(array, low, high):\n",
        "  if low < high:\n",
        "\n",
        "    # find pivot element such that\n",
        "    # element smaller than pivot are on the left\n",
        "    # element greater than pivot are on the right\n",
        "    pi = partition(array, low, high)\n",
        "\n",
        "    # recursive call on the left of pivot\n",
        "    quickSort(array, low, pi - 1)\n",
        "\n",
        "    # recursive call on the right of pivot\n",
        "    quickSort(array, pi + 1, high)\n",
        "\n",
        "\n",
        "data = [8, 7, 2, 1, 0, 9, 6]\n",
        "print(\"Unsorted Array\")\n",
        "print(data)\n",
        "\n",
        "size = len(data)\n",
        "\n",
        "quickSort(data, 0, size - 1)\n",
        "\n",
        "print('Sorted Array in Ascending Order:')\n",
        "print(data)"
      ],
      "metadata": {
        "colab": {
          "base_uri": "https://localhost:8080/"
        },
        "id": "fRwSsXgpUTvx",
        "outputId": "3778e435-ea16-4c01-c98a-aee73e265a28"
      },
      "execution_count": 3,
      "outputs": [
        {
          "output_type": "stream",
          "name": "stdout",
          "text": [
            "Unsorted Array\n",
            "[8, 7, 2, 1, 0, 9, 6]\n",
            "Sorted Array in Ascending Order:\n",
            "[0, 1, 2, 6, 7, 8, 9]\n"
          ]
        }
      ]
    }
  ]
}