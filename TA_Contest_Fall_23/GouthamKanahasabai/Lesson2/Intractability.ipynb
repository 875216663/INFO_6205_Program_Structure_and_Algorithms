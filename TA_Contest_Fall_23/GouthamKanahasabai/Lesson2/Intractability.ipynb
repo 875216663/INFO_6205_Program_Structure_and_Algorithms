{
  "nbformat": 4,
  "nbformat_minor": 0,
  "metadata": {
    "colab": {
      "provenance": []
    },
    "kernelspec": {
      "name": "python3",
      "display_name": "Python 3"
    },
    "language_info": {
      "name": "python"
    }
  },
  "cells": [
    {
      "cell_type": "markdown",
      "source": [
        "# P, NP, NP-Hard and NP-Complete Problems\n",
        "\n",
        "<div style=\"text-align: right\">INFO 6205 Program Structures and Algorithms</div>\n",
        "<div style=\"text-align: right\">Goutham Kanahasabai, 18 August 2023</div>\n",
        "\n",
        "<img src=\"https://drive.google.com/uc?export=view&id=1U1DljmYKoahMqPgPW3Enbxfk1YzCo8vP\" width=\"700px\" height=\"\" alt= “”  caption=\n",
        "  \"sjfgksd\">\n",
        "\n",
        "  Image generated using [DALL.E](https://labs.openai.com/)  \n",
        "  Prompt: *\"Generate an image that visually represents the concept of NP-hard problems in computer science. Depict a complex web of interconnected nodes and edges, symbolizing the difficulty of finding optimal solutions. Use colors and shapes to convey the challenging nature of these problems.\"*\n",
        "\n"
      ],
      "metadata": {
        "id": "IVLfr_O9mihT"
      }
    },
    {
      "cell_type": "markdown",
      "source": [
        "## **Table of Contents**\n"
      ],
      "metadata": {
        "id": "45ffLzabN0Qe"
      }
    },
    {
      "cell_type": "markdown",
      "source": [
        "\n",
        "1. [Introduction](#introduction-to-dynamic-programming)\n",
        "   - Intractability\n",
        "   \n",
        "2. [P (Polynomial time)](#p)\n",
        "   \n",
        "3. [NP](#np)\n",
        "\n",
        "4. [NP-Hard and NP-Complete problems](#npc)\n",
        "  \n",
        "5. [Reduction](#reduction)\n",
        "\n",
        "6. [Quiz](#quiz)\n",
        "\n",
        "7. [References](#refs)\n"
      ],
      "metadata": {
        "id": "Tp8f8xsDNy37"
      }
    },
    {
      "cell_type": "markdown",
      "source": [
        "## **Introduction**\n"
      ],
      "metadata": {
        "id": "ZTBhwdhBon8y"
      }
    },
    {
      "cell_type": "markdown",
      "source": [
        "In computer science, the concept of \"intractability\" refers to problems that are computationally very challenging or practically impossible to solve efficiently. These are problems for which there is no known algorithm that can provide a solution in a reasonable amount of time for all instances, especially as the size of the problem grows.\n",
        "\n",
        "The most widely known and fundamental classification of problems based on their solvability falls into three categories:\n",
        "\n",
        "1. P (Polynomial Time)\n",
        "2. NP (Nondeterministic Polynomial Time)\n",
        "3. NP-hard and NP-complete\n",
        "\n",
        "\n",
        "To get a quick overview of how these problem categories are related in terms of complexity, here's a digram depicting that:\n",
        "\n",
        "<img src=\"https://drive.google.com/uc?export=view&id=1lZACBPq6wq0fB7NWBphDTh5BMS_RAGGw\" width=\"700px\" height=\"\" alt= “”  caption=\n",
        "  \"sjfgksd\">\n",
        "\n",
        "We'll delve deeper into what each of these categories mean in this notebook.\n",
        "\n",
        "\n"
      ],
      "metadata": {
        "id": "y9nxQLfCotS8"
      }
    },
    {
      "cell_type": "markdown",
      "source": [
        "## **P (Polynomial Time)**"
      ],
      "metadata": {
        "id": "XUSSKEbvti02"
      }
    },
    {
      "cell_type": "markdown",
      "source": [
        "Problems in the P space are problems where an algorithm would take a polynomial amount of time to solve, or where Big-O is a polynomial (i.e. `O(1)`, `O(n)`, `O(n²)`, etc). These problems are considered \"easy\" to solve in practice because their complexity doesn't increase drastically as the input size grows.\n",
        "\n",
        "There are a plethora of examples of problems that fall into this category. For example:\n",
        "\n",
        "- **Sorting**: Given a list of elements, sort them in ascending or descending order. Algorithms like Quicksort, Mergesort, etc. can solve this problem in polynomial time.\n",
        "- **Shortest Path problems**: Finding the shortest path between two nodes in a graph can be solved in polynomial time using algorithms like Dijkstra's algorithm or the Bellman-Ford algorithm."
      ],
      "metadata": {
        "id": "eBi1zkvytqGq"
      }
    },
    {
      "cell_type": "markdown",
      "source": [
        "## **NP (Non-deterministic Polynomial Time)**"
      ],
      "metadata": {
        "id": "0UghfExC0ghC"
      }
    },
    {
      "cell_type": "markdown",
      "source": [
        "NP problems are those for which, if you're given a potential solution, you can verify its correctness relatively quickly. This verification process takes polynomial time in relation to the size of the input. However, actually finding a solution may not have a known algorithm that can do so efficiently for all instances.\n",
        "\n",
        "That can be quite hard to grasp with just a definition so here's a problem:  \n",
        "<img src=\"https://drive.google.com/uc?export=view&id=1Dy5Rk1kmsKYJ0yXUvDDqwHtPctQ4Tg8j\" height=\"400px\" alt= “”  caption=\n",
        "  \"sjfgksd\">\n",
        "\n",
        "To solve this problem, an algorithm would have to check each 3x3 matrix to find the missing numbers, then each row, then each column, and then ensure there are no repetitions of any digits. Solving this problem would not have a polynomial run-time. However, if you were to provide a possible solution, it would be much less complex to check if there are any repetitions in the rows, columns and matrices. This is a simple check which would have a polynomial run-time.\n",
        "\n",
        "Here are a few examples of problems that belong to the class NP:\n",
        "\n",
        "- **Boolean Satisfiability (SAT)**: Given a Boolean formula (a logical expression involving AND, OR, and NOT operations), the SAT problem asks whether there exists an assignment of truth values to the variables that makes the formula true. Verifying a solution (an assignment) can be done by substituting the values and checking if the formula evaluates to true.\n",
        "\n",
        "- **Traveling Salesman Problem (TSP)**: In the TSP, you're given a list of cities and the distances between them. The goal is to find the shortest possible route that visits each city exactly once and returns to the starting city. While finding the optimal solution may be challenging, given a route, you can quickly calculate its length to verify it.\n"
      ],
      "metadata": {
        "id": "QrDmH_iBzegv"
      }
    },
    {
      "cell_type": "markdown",
      "source": [
        "## **NP-Hard and NP-Complete problems**"
      ],
      "metadata": {
        "id": "fiPjSX3pToBm"
      }
    },
    {
      "cell_type": "markdown",
      "source": [
        "\n",
        "\n",
        "**NP-hard**:\n",
        "NP-hard problems are a class of problems that are at least as hard as the hardest problems in the class NP. In other words, they are problems for which no known polynomial-time algorithm exists to solve them. NP-hard problems do not necessarily need to be in the class NP themselves, but they are \"hard\" in the sense that they are as difficult to solve as any problem in NP.\n",
        "\n",
        "A problem A is considered NP-hard if you can use a polynomial-time reduction (transformation) from any problem B in the class NP to problem A. This means that if you have an efficient algorithm to solve problem A, you could use it to solve any problem in NP efficiently as well.\n",
        "\n",
        "**NP-complete**:\n",
        "NP-complete problems are a subset of NP-hard problems that are the \"hardest\" problems within NP. We say problem X is NP-complete if:\n",
        "  * X ∈ NP\n",
        "  * for all `Y ∈ NP`, `Y ≤P X`.  \n",
        "  \n",
        "If these hold, then X can be used to solve every problem in NP.\n",
        "Therefore, X is definitely at least as hard as every problem in NP.\n",
        "\n",
        "<img src=\"https://drive.google.com/uc?export=view&id=1YgKPqc336CQyM9ud9Wl0N20AofDvGuR_\" height=\"300px\" alt= “”  caption=\n",
        "  \"sjfgksd\">\n",
        "\n",
        "\n",
        "\n",
        "One of problems that is in the class of NP-Complete is the Hamiltonian path problem. A graph G has a Hamiltonian Path from some vertex s to another vertex t if there is a path that connects the two vertices which touches each vertex in the graph exactly once.\n",
        "\n",
        "<img src=\"https://drive.google.com/uc?export=view&id=1yaRXpxaaf47GtQRhmVSALGXSvrmC7vc7\" height=\"400px\" alt= “”  caption=\n",
        "  \"sjfgksd\">\n",
        "\n",
        "For instance, the graph above has a hamiltonian path `s -> u -> v -> w -> t`\n"
      ],
      "metadata": {
        "id": "IRjjavIFQ8qU"
      }
    },
    {
      "cell_type": "markdown",
      "source": [
        "## Reductions"
      ],
      "metadata": {
        "id": "c5U1vJvjT_7t"
      }
    },
    {
      "cell_type": "markdown",
      "source": [
        "Reductions are used to show how one problem can be transformed into another problem in a way that preserves the inherent difficulty.   \n",
        "We are primarily concerned with polynomial time reductions, where such a reduction from problem A to problem B means that an algorithm exists that can transform instances of problem A into instances of problem B in polynomial time.  \n",
        "This reduction is often denoted as `\"A ≤p B`,\" where `\"≤p\"` signifies polynomial time reducibility. If such a reduction exists, it implies that if you can solve problem B efficiently, you can also solve problem A efficiently.\n",
        "\n",
        "To show that a new problem of unknown difficulty is NP-Complete we have to do two main things:\n",
        "\n",
        "1. Show that the problem lies in NP.\n",
        "2. Show that the problem is NP-Hard.\n",
        "\n",
        "### **Reductions as a tool for hardness**\n",
        "\n",
        "We want prove some problems are computationally difficult.  \n",
        "As a first step, we settle for relative judgements:\n",
        "`Problem X is at least as hard as problem Y`\n",
        "\n",
        "* If problem Y can be reduced to problem X, we denote this by\n",
        "`Y ≤P X`.\n",
        "* This means “Y is polynomal-time reducible to X.”\n",
        "* It also means that X is at least as hard as Y because if you\n",
        "can solve X, you can solve Y ."
      ],
      "metadata": {
        "id": "Psi4zT6XUEct"
      }
    },
    {
      "cell_type": "markdown",
      "source": [
        "## Quiz"
      ],
      "metadata": {
        "id": "-fyaUS_iKp5G"
      }
    },
    {
      "cell_type": "markdown",
      "source": [
        "1. Which of the following statements about NP problems is true?  \n",
        "  a. NP problems are easy to solve in polynomial time.  \n",
        "  b. NP problems are solvable in non-deterministic polynomial time.  \n",
        "  c. NP problems can always be solved using brute-force methods.  \n",
        "  d. NP problems are a superset of P problems.\n",
        "  e. NP problems are a subset of P problems.\n",
        "\n",
        "  <details>\n",
        "        <summary>Answer</summary>\n",
        "        b: NP problems are solvable in non-deterministic polynomial time.   and d: NP problems are a superset of P problems.\n",
        "      </details>\n",
        "\n",
        "2. If problem A is reducible to problem B in polynomial time and problem B is NP-complete, what can we conclude about problem A?\n",
        "  a. Problem A is in the P class.  \n",
        "  b. Problem A is NP-complete.  \n",
        "  c. Problem A is solvable in constant time.  \n",
        "  d. Problem A is not solvable.\n",
        "\n",
        "  <details>\n",
        "          <summary>Answer</summary>\n",
        "          b: Problem A is NP-complete.\n",
        "        </details>\n",
        "\n",
        "3. Which of the following is true about NP-Complete and NP-Hard problems:  \n",
        "  a. NP-complete is a subset of NP Hard.\n",
        "  b. The first problem that was proved as NP-complete was the circuit satisfiability problem.  \n",
        "  c. If we want to prove that a problem X is NP-Hard, we take a known NP-Hard problem Y and reduce Y to X  \n",
        "  d. All of the above\n",
        "\n",
        "  <details>\n",
        "            <summary>Answer</summary>\n",
        "            d. All of the above\n",
        "          </details>\n",
        "\n",
        "4. Consider the Traveling Salesman Problem (TSP) where a salesman needs to visit N cities exactly once and return to the starting city to minimize the total distance traveled. Which of the following statements accurately describes the complexity of solving the TSP?  \n",
        "\n",
        "  a. The TSP is always solvable in polynomial time using dynamic programming.  \n",
        "  b. The TSP is in the P class for a small number of cities but becomes NP-complete as the number of cities increases.  \n",
        "  c. The TSP is a linear-time problem that can be solved using greedy algorithms.  \n",
        "  d. The TSP is a problem of exponential complexity and is NP-complete, even for a moderate number of cities.\n",
        "\n",
        "  <details>\n",
        "              <summary>Answer</summary>\n",
        "              d. The TSP is a problem of exponential complexity and is NP-complete, even for a moderate number of cities.\n",
        "            </details>\n",
        "\n",
        "5. Consider the Hamiltonian Cycle problem, where the goal is to determine whether a given graph contains a cycle that visits each vertex exactly once and returns to the starting vertex. Which of the following statements accurately describes the complexity of solving the Hamiltonian Cycle problem?  \n",
        "\n",
        "  a. The Hamiltonian Cycle problem is always solvable in polynomial time using divide and conquer techniques.  \n",
        "  b. The Hamiltonian Cycle problem is a linear-time problem that can be solved using greedy algorithms.  \n",
        "  c. The Hamiltonian Cycle problem is an NP-complete problem, which means that finding a polynomial-time algorithm for it would imply P = NP.  \n",
        "  d. The Hamiltonian Cycle problem is only solvable using quantum computers and is not within the scope of classical computation.\n",
        "\n",
        " <details>\n",
        "              <summary>Answer</summary>\n",
        "              c. The Hamiltonian Cycle problem is an NP-complete problem, which means that finding a polynomial-time algorithm for it would imply P = NP.\n",
        "            </details>  \n"
      ],
      "metadata": {
        "id": "YNYNBQpdKsRN"
      }
    },
    {
      "cell_type": "markdown",
      "source": [
        "## **References**"
      ],
      "metadata": {
        "id": "8o8NkH5xSOYy"
      }
    },
    {
      "cell_type": "markdown",
      "source": [
        "\n",
        "1. Kleinberg, J., & Tardos, É. (2021). Algorithm Design. Pearson.\n",
        "2. Cormen, T. H., Leiserson, C. E., Rivest, R. L., & Stein, C. (2009). Introduction to Algorithms. MIT Press.\n",
        "3. https://en.wikipedia.org/wiki/NP-completeness\n",
        "4. https://www.cs.cmu.edu/~ckingsf/bioinfo-lectures/npcomplete.pdf\n",
        "5. https://www.britannica.com/science/NP-complete-problem"
      ],
      "metadata": {
        "id": "QKyZ-IEVSVOv"
      }
    }
  ]
}