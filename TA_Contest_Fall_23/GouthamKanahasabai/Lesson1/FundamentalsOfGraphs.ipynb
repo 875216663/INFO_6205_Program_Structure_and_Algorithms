{
  "nbformat": 4,
  "nbformat_minor": 0,
  "metadata": {
    "colab": {
      "provenance": [],
      "collapsed_sections": [
        "MM2Mm-iJwZvt",
        "ghJTIpxxRujc"
      ],
      "toc_visible": true
    },
    "kernelspec": {
      "name": "python3",
      "display_name": "Python 3"
    },
    "language_info": {
      "name": "python"
    }
  },
  "cells": [
    {
      "cell_type": "markdown",
      "source": [
        "\n",
        "# **Fundamentals of Graphs**\n",
        "<div style=\"text-align: right\">INFO 6205 Program Structures and Algorithms</div>\n",
        "<div style=\"text-align: right\">Goutham Kanahasabai, 18 August 2023</div>\n",
        "\n",
        " <img src=\"https://drive.google.com/uc?export=view&id=1R3_GwUjuQ_VGjjWi9VIHfiXBYnVcceVg\" width=\"700px\" height=\"\" alt= “”  caption=\n",
        "  \"sjfgksd\">\n",
        "\n",
        "  **Image generated using DALL.E**  \n",
        "  Prompt: \"Create an image of a computer science graph network that visually captures the interconnections between nodes and edges. Showcase the complexity and patterns of relationships within the graph, highlighting its relevance in representing real-world networks and systems.\"\n",
        "\n",
        "\n",
        "\n",
        "\n"
      ],
      "metadata": {
        "id": "vWtVnTLTiUCu"
      }
    },
    {
      "cell_type": "markdown",
      "source": [],
      "metadata": {
        "id": "bH0d0OF1Q82a"
      }
    },
    {
      "cell_type": "markdown",
      "source": [
        "## **Table of Contents**\n"
      ],
      "metadata": {
        "id": "45ffLzabN0Qe"
      }
    },
    {
      "cell_type": "markdown",
      "source": [
        "\n",
        "1. [Introduction](#introduction)\n",
        "   - What are Graphs?\n",
        "   - Types of Graphs\n",
        "   \n",
        "2. [Representation of Graphs](#rep)\n",
        "   - Adjacency Lists\n",
        "   - Adhacency Matrices\n",
        "   \n",
        "3. [Graph Traversals](#traversals)\n",
        "  - Breadth-first search\n",
        "  - Depth-first search\n",
        "\n",
        "4. [Directed Acyclic Graphs](#dags)\n",
        "  - What are DAGs\n",
        "  - Topological Sort\n",
        "   \n",
        "5. [Real-World Applications](#applications)\n",
        "\n",
        "   \n",
        "6. [References](#refs)\n"
      ],
      "metadata": {
        "id": "Tp8f8xsDNy37"
      }
    },
    {
      "cell_type": "markdown",
      "source": [
        "## <a name=\"introduction\"></a> **Introduction**"
      ],
      "metadata": {
        "id": "BsfQbxeuC68e"
      }
    },
    {
      "cell_type": "markdown",
      "source": [
        "\n",
        " Graphs are a fundamental concept in computer science that represent a wide range of relationships and connections between various entities. They are a powerful way to model and solve problems that involve networks, relationships, and dependencies.\n",
        "\n",
        "\n",
        "### **What are Graphs?**\n",
        "\n",
        "A graph is a collection of nodes (or vertices) and edges that connect pairs of nodes.\n",
        "A graph is represented as `G = {V, E}`, where `G` is the graph space, `V` is the set of vertices and E is the set of edges.\n",
        "\n",
        "For example, here's a simple graph:\n",
        "<img src=\"https://drive.google.com/uc?export=view&id=1Ily9mhuaeHo4sUShjqGXhTCJAR4gUc1Y\" alt= “” width=\"500px\" height=\"\" caption=\n",
        "\"sjfgksd\">\n",
        "\n",
        "In this graph, the set of vertices `V = {1, 2, 3, 4, 5}`,\n",
        "and the set of edges is `E = {(1, 2), (2, 1), (1, 3), (3, 1), (2, 3), (3, 2), (2, 4), (4, 2) (2, 5), (5, 2), (3, 5), (5, 3), (4, 5), (5, 4)}`\n",
        "\n",
        "\n",
        "Common terminology related to graphs includes:\n",
        "\n",
        "1. **Vertex**: An individual element in the graph\n",
        "2. **Edge**: A connection between two nodes. It can have a direction (directed graph) or not (undirected graph).\n",
        "3. **Path**: A sequence of nodes where each adjacent pair is connected by an edge.\n",
        "4. **Cycle**: A path that starts from a given vertex and ends at the same vertex\n",
        "5. **Degree**: The degree of a node is the number of edges incident on it (for undirected graphs) or the number of outgoing edges (for directed graphs).\n",
        "\n",
        "### **Types of Graphs**\n",
        "\n",
        "There are primarily 2 types of graphs:\n",
        "\n",
        "1. **Directed Graphs**: A directed graph is a set of vertices (nodes) connected by edges, where each node has a direction associated with it. Edges are usually represented by arrows pointing in the direction the graph can be traversed.\n",
        "\n",
        "\n",
        "  <img src=\"https://drive.google.com/uc?export=view&id=1P4bfQKRgUumVwRdeE4PYmgzgMBB83MLH\" alt= “” width=\"400px\" height=\"\" caption=\n",
        "  \"sjfgksd\">\n",
        "\n",
        "  In the directed graph depicted above, the edge set comparises of the following edges: `{(A, B), (B, C), (B, D), (C, E), (D, B), (E, D), (E, F)}`\n",
        "\n",
        "\n",
        "2. **Undirected Graphs** : Undirected graphs have edges without any direction. The edges in these graphs signify a two-way relationship, as in each edge can be traversed in both directions.\n",
        "\n",
        "  The following is a simple undirected graph:\n",
        "\n",
        "<img src=\"https://drive.google.com/uc?export=view&id=1q3K5af1VUH9mofBpB04Fp-Co55nxpc3n\" alt= “” width=\"400px\" height=\"\" caption=\n",
        "\"sjfgksd\">\n",
        "\n",
        "\n",
        "The edges of a graph can also have numeric values associated with them, making that graph a weight graph.  A weighted graph is defined as a graph in which the edges are assigned some weights which represent cost, distance or other units.\n",
        "Edge weights can be positive or negative integers.\n",
        "\n",
        "<img src=\"https://drive.google.com/uc?export=view&id=1QB-492SAe7RTj2EG2e1SautPm-OqPUPf\" alt= “” width=\"400px\" height=\"\" caption=\n",
        "\"sjfgksd\">\n",
        "\n",
        "\n"
      ],
      "metadata": {
        "id": "RLEU3y_VrGWS"
      }
    },
    {
      "cell_type": "markdown",
      "source": [
        "## <a name=\"rep\"></a> **Representation of Graphs**"
      ],
      "metadata": {
        "id": "rr5D00SnC-ED"
      }
    },
    {
      "cell_type": "markdown",
      "source": [
        "The two most common ways to represent a graph are as follows:\n",
        "\n",
        "1. Adjacency Matrix\n",
        "2. Adjacency List\n",
        "\n",
        "Lets look at each of these representation with some code!\n",
        "\n",
        "### **Adjacency Matrix**\n",
        "\n",
        "In the adjacency matrix approach, the graph in consideration is represented as a boolean matrix, comprising of 0s and 1s.\n",
        "Let’s assume that we have a graph with `n` vertices. We need to construct a 2D matrix, `Mat[n][n]` which is of dimensions `n x n`.\n",
        "\n",
        "The matrix is then filled out based on the following criteria:\n",
        "\n",
        "* For every edge from vertix `i` to `j`, mark `Mat[i][j]` as 1.\n",
        "* For all other edges from vertex `i` to `j`, mark `Mat[i][j]` as 0.\n",
        "'\n",
        "\n",
        "Here's a simple undirected graph:\n",
        "\n",
        "<img src=\"https://drive.google.com/uc?export=view&id=1z2hex--GCdqSb4E1kC7KIOx8nz2XSdOJ\" alt= “” width=\"400px\" height=\"\" caption=\n",
        "\"sjfgksd\">\n",
        "\n",
        "The adjacency matrix for the graph above would be as follows:\n",
        "\n",
        "<img src=\"https://drive.google.com/uc?export=view&id=1WfhIOqlIFqKhrmqJVOeNa2dO5Xd5Ov5T\" alt= “” width=\"400px\" height=\"\" caption=\n",
        "\"sjfgksd\">\n",
        "\n",
        "Lets look at some code!"
      ],
      "metadata": {
        "id": "1-x_BOr2DD4u"
      }
    },
    {
      "cell_type": "code",
      "source": [
        "# Define a Graph class for adjacency matrix representation\n",
        "class Graph(object):\n",
        "\n",
        "    # Initialize the matrix\n",
        "    def __init__(self, num_nodes):\n",
        "        self.adj_matrix = []\n",
        "        for _ in range(num_nodes):\n",
        "            self.adj_matrix.append([0 for _ in range(num_nodes)])  # Initialize with zeros\n",
        "        self.num_nodes = num_nodes  # Number of nodes in the graph\n",
        "\n",
        "    # Add edges to the matrix\n",
        "    def add_edge(self, node1, node2):\n",
        "        if node1 == node2:\n",
        "            print(\"Same vertex %d and %d\" % (node1, node2))\n",
        "        self.adj_matrix[node1][node2] = 1  # Mark edge between node1 and node2\n",
        "        self.adj_matrix[node2][node1] = 1  # Mark edge between node2 and node1 (undirected)\n",
        "\n",
        "    # Remove edges from the matrix\n",
        "    def remove_edge(self, node1, node2):\n",
        "        if self.adj_matrix[node1][node2] == 0:\n",
        "            print(\"No edge between %d and %d\" % (node1, node2))\n",
        "            return\n",
        "        self.adj_matrix[node1][node2] = 0  # Remove edge between node1 and node2\n",
        "        self.adj_matrix[node2][node1] = 0  # Remove edge between node2 and node1 (undirected)\n",
        "\n",
        "    # Get the number of nodes in the graph\n",
        "    def __len__(self):\n",
        "        return self.num_nodes\n",
        "\n",
        "    # Print the adjacency matrix\n",
        "    def print_matrix(self):\n",
        "        for row in self.adj_matrix:\n",
        "            for val in row:\n",
        "                print('{:4}'.format(val), end='')  # Print each value with formatting\n",
        "            print()  # Move to the next line after a row is printed\n",
        "\n",
        "\n",
        "# Main function\n",
        "def main():\n",
        "    # Create a graph with 6 nodes\n",
        "    graph = Graph(6)\n",
        "\n",
        "    # Add edges to the graph\n",
        "    graph.add_edge(0, 1)\n",
        "    graph.add_edge(0, 2)\n",
        "    graph.add_edge(1, 3)\n",
        "    graph.add_edge(2, 4)\n",
        "    graph.add_edge(3, 5)\n",
        "    graph.add_edge(4, 5)\n",
        "\n",
        "    # Print the adjacency matrix\n",
        "    graph.print_matrix()\n",
        "\n",
        "\n",
        "# Run the main function if the script is executed directly\n",
        "if __name__ == '__main__':\n",
        "    main()\n"
      ],
      "metadata": {
        "colab": {
          "base_uri": "https://localhost:8080/"
        },
        "id": "Tf5y5M3Yb7bI",
        "outputId": "e43c6ef6-e956-48de-b7d8-86c2d948c589"
      },
      "execution_count": 2,
      "outputs": [
        {
          "output_type": "stream",
          "name": "stdout",
          "text": [
            "   0   1   1   0   0   0\n",
            "   1   0   0   1   0   0\n",
            "   1   0   0   0   1   0\n",
            "   0   1   0   0   0   1\n",
            "   0   0   1   0   0   1\n",
            "   0   0   0   1   1   0\n"
          ]
        }
      ]
    },
    {
      "cell_type": "markdown",
      "source": [
        "### Facts about Adjacency Matrix:\n",
        "\n",
        "* Basic operations such as adding an edge, removing an edge, and checking whether there is an edge from vertex `i` to vertex `j`  take contant time i.e. `O(1)`\n",
        "* This representation makes use of `V x V` dimensional matrix, so space required in worst case is `O(|V|^2)`. Graphs are usually sparse in nature, and do not have a lot of edges. This is why adjacency lists are the better choice for most use cases.\n"
      ],
      "metadata": {
        "id": "WyBkVcG1gQ72"
      }
    },
    {
      "cell_type": "markdown",
      "source": [
        "### **Adjacency List**\n",
        "\n",
        "In this representation, an array of lists stores the edges between two vertices. The array's size equals the number of vertices (i.e, `n`). Each index in this array represents a specific vertex in the graph. The entry at the index `i` of the array contains a linked list containing the vertices that are adjacent to vertex `i`.\n",
        "\n",
        "Assuming there are `n` vertices in the graph, we create an array of list of size `n` called `List[n]`.\n",
        "\n",
        "* `List[0]` contains all nodes connected to vertex 0.\n",
        "* `List[1]` contains all nodes connected to vertex 1 and so on.\n",
        "\n",
        "\n",
        "For the same graph we used for the adjacency matrix, here's the adjacency list representation:\n",
        "\n",
        "<img src=\"https://drive.google.com/uc?export=view&id=13fL982jP0NDNkHvSibBDQ2pRFWUse0xb\" alt= “” width=\"500px\" height=\"\" caption=\n",
        "\"sjfgksd\">\n",
        "\n",
        "\n",
        "\n",
        "\n",
        "\n"
      ],
      "metadata": {
        "id": "-5wVHrgDdRj8"
      }
    },
    {
      "cell_type": "code",
      "source": [
        "# Adjacency List representation in Python\n",
        "\n",
        "# Class to represent a node in the adjacency list\n",
        "class AdjacencyNode:\n",
        "    def __init__(self, vertex_value):\n",
        "        self.vertex = vertex_value  # Value of the vertex/node\n",
        "        self.next_node = None       # Pointer to the next node in the linked list\n",
        "\n",
        "\n",
        "# Class to represent a graph using adjacency list\n",
        "class Graph:\n",
        "    def __init__(self, num_vertices):\n",
        "        self.num_vertices = num_vertices         # Number of vertices (nodes) in the graph\n",
        "        self.adjacency_list = [None] * self.num_vertices  # Initialize the array to hold adjacency lists\n",
        "\n",
        "    # Method to add edges to the graph\n",
        "    def add_edge(self, source_vertex, destination_vertex):\n",
        "        # Create a new node for the destination vertex and add it to the source's list\n",
        "        destination_node = AdjacencyNode(destination_vertex)\n",
        "        destination_node.next_node = self.adjacency_list[source_vertex]\n",
        "        self.adjacency_list[source_vertex] = destination_node\n",
        "\n",
        "        # Create a new node for the source vertex and add it to the destination's list\n",
        "        source_node = AdjacencyNode(source_vertex)\n",
        "        source_node.next_node = self.adjacency_list[destination_vertex]\n",
        "        self.adjacency_list[destination_vertex] = source_node\n",
        "\n",
        "    # Method to print the graph\n",
        "    def print_adjacency_list(self):\n",
        "        for vertex_index in range(self.num_vertices):\n",
        "            print(\"Vertex \" + str(vertex_index) + \":\", end=\"\")\n",
        "            current_node = self.adjacency_list[vertex_index]\n",
        "            while current_node:\n",
        "                print(\" -> {}\".format(current_node.vertex), end=\"\")\n",
        "                current_node = current_node.next_node\n",
        "            print(\" \\n\")\n",
        "\n",
        "\n",
        "if __name__ == \"__main__\":\n",
        "    num_vertices = 5\n",
        "\n",
        "    # Create a graph and add edges\n",
        "    graph = Graph(num_vertices)\n",
        "    graph.add_edge(0, 1)\n",
        "    graph.add_edge(0, 2)\n",
        "    graph.add_edge(0, 3)\n",
        "    graph.add_edge(1, 2)\n",
        "\n",
        "    # Print the adjacency list representation of the graph\n",
        "    graph.print_adjacency_list()\n"
      ],
      "metadata": {
        "colab": {
          "base_uri": "https://localhost:8080/"
        },
        "id": "WJstpQyCelS2",
        "outputId": "edbe01f0-8d7f-440b-9805-a62d7ffbf059"
      },
      "execution_count": 8,
      "outputs": [
        {
          "output_type": "stream",
          "name": "stdout",
          "text": [
            "Vertex 0: -> 3 -> 2 -> 1 \n",
            "\n",
            "Vertex 1: -> 2 -> 0 \n",
            "\n",
            "Vertex 2: -> 1 -> 0 \n",
            "\n",
            "Vertex 3: -> 0 \n",
            "\n",
            "Vertex 4: \n",
            "\n"
          ]
        }
      ]
    },
    {
      "cell_type": "markdown",
      "source": [
        "### Facts about Adjacency List:\n",
        "\n",
        "* An adjacency list is efficient with respect to memory as we only need to store the values for the edges.\n",
        "* A vertex can have at most `O(|V|)` neighbours so in worst case we would have to check for every adjacent vertex. Therefore, time complexity is `O(|V|)` .\n"
      ],
      "metadata": {
        "id": "thl9SBNjh0p7"
      }
    },
    {
      "cell_type": "markdown",
      "source": [
        "## <a name=\"traversals\"></a> **Graph Traversals**\n"
      ],
      "metadata": {
        "id": "naHazSOj20Oh"
      }
    },
    {
      "cell_type": "markdown",
      "source": [
        "The goal of a graph traversal, generally, is to find all nodes reachable from a given source node. In an undirected graph we follow all edges; in a directed graph we follow only the outgoing edges.\n",
        "Two of the most commonly used algorithms for traversal are: ***Depth-First Search (DFS)*** and ***Breadth-First Search (BFS)***.\n",
        "Lets look into each of these algorithms in more detail."
      ],
      "metadata": {
        "id": "y1pLqCwC3Ptw"
      }
    },
    {
      "cell_type": "markdown",
      "source": [
        "### **Breadth-First Search (BFS)**\n",
        "\n",
        "Breadth-First Search (BFS) explores a graph level by level. It starts from a selected node (usually called the source node) and systematically visits all nodes that are reachable from the source node, in breadth-first order.  \n",
        "BFS **guarantees** that nodes are visited level by level, meaning all nodes at distance 1 from the source are visited before moving on to nodes at distance 2, and so on. This property makes BFS suitable for finding the shortest path in unweighted graphs.  \n",
        "\n",
        "BFS is commonly used in finding shortest paths, network routing protocols, social network analysis, and more.\n",
        "*italicized text*"
      ],
      "metadata": {
        "id": "-nLwVv9V3sl1"
      }
    },
    {
      "cell_type": "markdown",
      "source": [
        "#### Implementation\n",
        "\n",
        "To implement BFS, we use a queue to keep track of nodes to be visited. The queue ensures that nodes are visited in the order they were added, which is crucial for maintaining the breadth-first exploration order.\n",
        "Consider the following undirected graph:\n",
        "\n",
        "<img src=\"https://drive.google.com/uc?export=view&id=1zKamWjh9Tno0o9rItUXJkzKRVlzYsiT2\" alt= “” width=\"400px\" height=\"\" caption=\n",
        "\"sjfgksd\">\n"
      ],
      "metadata": {
        "id": "RBxRbHOu6MMp"
      }
    },
    {
      "cell_type": "code",
      "source": [
        "graph = {\n",
        "    'A': ['B', 'C'],\n",
        "    'B': ['D', 'E'],\n",
        "    'C': ['F'],\n",
        "    'D': [],\n",
        "    'E': [],\n",
        "    'F': []\n",
        "}\n",
        "\n",
        "visited = []  # List to track visited nodes\n",
        "queue = []    # Initialize a queue\n",
        "\n",
        "def bfs(visited, graph, node):\n",
        "    visited.append(node)  # Mark the current node as visited\n",
        "    queue.append(node)    # Enqueue the current node\n",
        "\n",
        "    while queue:  # Loop to visit nodes in BFS order\n",
        "        current_node = queue.pop(0)  # Dequeue the front node\n",
        "        print(current_node, end=\" \")  # Print the visited node\n",
        "\n",
        "        # Explore neighbors of the current node\n",
        "        for neighbor in graph[current_node]:\n",
        "            if neighbor not in visited:\n",
        "                visited.append(neighbor)\n",
        "                queue.append(neighbor)  # Enqueue unvisited neighbors\n",
        "\n",
        "# Driver Code\n",
        "print(\"Following is the Breadth-First Search traversal orer:\")\n",
        "bfs(visited, graph, 'A')  # Call the BFS function starting from node 'A'\n",
        "\n",
        "# Explanation:\n",
        "# The graph dictionary represents the adjacency list of the graph. Each key is a node, and its corresponding value is a list of neighbors.\n",
        "# The visited list is used to keep track of visited nodes.\n",
        "# The queue is used to maintain the order in which nodes are explored.\n",
        "# The bfs function implements the BFS algorithm. It starts by marking the initial node as visited and enqueuing it in the queue. Then, it enters a loop that continues as long as the queue is not empty.\n",
        "# In each iteration of the loop, the first node is dequeued from the queue, printed, and then all its unvisited neighbors are enqueued and marked as visited.\n",
        "# The code then prints the nodes visited in the BFS order.\n",
        "\n"
      ],
      "metadata": {
        "colab": {
          "base_uri": "https://localhost:8080/"
        },
        "id": "831w33u4234G",
        "outputId": "9dc3ca86-938e-488d-b6cb-b6fca3732d1c"
      },
      "execution_count": 16,
      "outputs": [
        {
          "output_type": "stream",
          "name": "stdout",
          "text": [
            "Following is the Breadth-First Search traversal orer:\n",
            "A B C D E F "
          ]
        }
      ]
    },
    {
      "cell_type": "markdown",
      "source": [
        "#### **Time and Space complexity**\n",
        "\n",
        "**Time**\n",
        "* The time complexity is determined the number of vertices in the graph.  \n",
        "* In the worst case, BFS may visit all vertices and edges in the graph.\n",
        "Therefore, the time complexity of BFS is `O(V + E)`, where V represents the number of vertices and E represents the number of edges in the graph.\n",
        "\n",
        " Although this may look linear, the time complexity of BFS can also be expressed as `O(b^d)` in certain scenarios, where 'b' is the average branching factor of the graph and 'd' is the depth of the graph.\n",
        "\n",
        "**Space**\n",
        "\n",
        "* The space complexity of BFS depends on the maximum number of vertices in the queue at any given time.\n",
        "* In the worst case, if the graph is a complete graph, every vertices at each level will be stored in the queue. Therefore, the space complexity can be stated as `O(V)`\n"
      ],
      "metadata": {
        "id": "HcySb81Z-OLg"
      }
    },
    {
      "cell_type": "markdown",
      "source": [
        "### **Depth-First Search (DFS)**\n",
        "\n",
        " Depth-First Search (DFS) is another graph traversal algorithm, similar to Breadth-First Search (BFS), but it explores the graph in a different manner. Instead of visiting all neighbors at a given depth level before moving to the next level, DFS focuses on exploring as far down a branch as possible before backtracking.\n",
        "\n",
        ""
      ],
      "metadata": {
        "id": "FvTsI2P4_8DY"
      }
    },
    {
      "cell_type": "markdown",
      "source": [
        "#### Implementation\n",
        "\n",
        "DFS uses a stack to remember the nodes to be explored. The algorithm keeps moving deeper into the graph until it reaches a dead end (a node with no unvisited neighbors), at which point it backtracks to a previous node and explores other branches.\n",
        "\n",
        "Looking at the same graph that we used earlier, lets look at how DFS is implemented and the traversal order:\n",
        "<img src=\"https://drive.google.com/uc?export=view&id=1zKamWjh9Tno0o9rItUXJkzKRVlzYsiT2\" alt= “” width=\"400px\" height=\"\" caption=\n",
        "\"sjfgksd\">\n"
      ],
      "metadata": {
        "id": "3bVFzg6ODY-4"
      }
    },
    {
      "cell_type": "code",
      "source": [
        "graph = {\n",
        "    'A': ['B', 'C'],\n",
        "    'B': ['D', 'E'],\n",
        "    'C': ['F'],\n",
        "    'D': [],\n",
        "    'E': [],\n",
        "    'F': []\n",
        "}\n",
        "\n",
        "visited = set()  # Using a set for efficient membership checking\n",
        "\n",
        "def dfs(graph, node):\n",
        "    if node not in visited:\n",
        "        print(node, end=\" \")  # Print the current node\n",
        "        visited.add(node)      # Mark the current node as visited\n",
        "\n",
        "        for neighbor in graph[node]:\n",
        "            dfs(graph, neighbor)  # Recursively visit unvisited neighbors\n",
        "\n",
        "# Driver Code\n",
        "print(\"Following is the Depth-First Search:\")\n",
        "dfs(graph, 'A')  # Call the DFS function starting from node '5'\n"
      ],
      "metadata": {
        "colab": {
          "base_uri": "https://localhost:8080/"
        },
        "id": "i8pelckGD1wL",
        "outputId": "c9e73e81-499f-4582-91c3-28f55ad450b1"
      },
      "execution_count": 17,
      "outputs": [
        {
          "output_type": "stream",
          "name": "stdout",
          "text": [
            "Following is the Depth-First Search:\n",
            "A B D E C F "
          ]
        }
      ]
    },
    {
      "cell_type": "markdown",
      "source": [
        "#### **Time and Space complexity**\n",
        "\n",
        "**Time**\n",
        "* In DFS, the time complexity is once again determined by the number of vertices and edges in the graph.\n",
        "* Speaking worst case, DFS algorithm will visit all vertices and edges in the graph.\n",
        "Therefore, the time complexity of DFS is `O(V + E)`, where `V` is the number of vertices and `E` is the number of edges.\n",
        "\n",
        "**Space**\n",
        "\n",
        "* The space complexity of DFS depends on the maximum depth of recursion.\n",
        "* Speaking worst case, if the graph is a long path, recursion can go as deep as the number of vertices.\n",
        "Therefore, the space complexity of DFS is `O(V)`, where `V` represents the number of vertices in the graph."
      ],
      "metadata": {
        "id": "HDExjibEFkhj"
      }
    },
    {
      "cell_type": "markdown",
      "source": [
        "## **Directed Acyclic Graphs**\n"
      ],
      "metadata": {
        "id": "zG2gE4t0jsK9"
      }
    },
    {
      "cell_type": "markdown",
      "source": [
        "\n",
        "A Directed Acyclic Graph (DAG) is a type of graph that consists of vertices connected by directed edges, where the edges have a direction and form a structure without any cycles. You cannot follow a sequence of edges and return to the same vertex in a directed acyclic graph by following the direction of the edges.\n",
        "\n",
        "<img src=\"https://drive.google.com/uc?export=view&id=1Psm4U0svZr3RgXKzaADmDV7CMGvRieYH\" alt= “” width=\"400px\" height=\"\" caption=\n",
        "\"sjfgksd\">\n",
        "\n",
        "The key characteristics of a DAG are:\n",
        "\n",
        "1. **Directed Edges**: Each edge in a DAG has a specific direction, indicating a one-way relationship from one vertex to another.\n",
        "\n",
        "2. **Acyclic**: A fundamental property of a DAG is that it contains no cycles\n",
        "\n",
        "\n",
        "### **Topological Sorting**\n",
        "\n",
        "Topological sorting provides a linear ordering of the vertices that respects the direction of edges, ensuring that if there's an edge from vertex A to vertex B, vertex A will appear before vertex B in the sorted order.\n",
        "\n",
        " If the graph is a DAG, it's guaranteed that a valid topological order exists. If the graph has cycles (is not acyclic), it's impossible to find a topological order, as cycles introduce circular dependencies that cannot be resolved.\n",
        "\n",
        " Lets look at how can go about implementing this algorithm in code, for the following graph!\n",
        "\n",
        " <img src=\"https://drive.google.com/uc?export=view&id=1Mx7hHwfZGQkFFGJ7vRqjhHG7mwvj9uwc\" alt= “” width=\"700px\" height=\"\" caption=\n",
        "\"sjfgksd\">\n",
        "\n"
      ],
      "metadata": {
        "id": "lRsi-fVNjzsT"
      }
    },
    {
      "cell_type": "code",
      "source": [
        "from collections import defaultdict\n",
        "\n",
        "class DirectedGraph:\n",
        "    def __init__(self):\n",
        "        self.adj_list = defaultdict(list)  # Create an adjacency list to represent the graph\n",
        "\n",
        "    def add_edge(self, source, destination):\n",
        "        self.adj_list[source].append(destination)  # Add an edge from source to destination\n",
        "\n",
        "        # Ensure destination vertex is initialized in the adjacency list\n",
        "        if destination not in self.adj_list:\n",
        "            self.adj_list[destination] = []\n",
        "\n",
        "    def topological_sort_util(self, vertex, visited, stack):\n",
        "        visited[vertex] = True  # Mark the current vertex as visited\n",
        "\n",
        "        # Visit all neighbors of the current vertex\n",
        "        for neighbor in self.adj_list[vertex]:\n",
        "            if not visited[neighbor]:  # If the neighbor is not visited yet\n",
        "                self.topological_sort_util(neighbor, visited, stack)  # Recursively visit the neighbor\n",
        "\n",
        "        stack.append(vertex)  # Add the current vertex to the stack after all its neighbors are visited\n",
        "\n",
        "    def topological_sort(self):\n",
        "        visited = {vertex: False for vertex in self.adj_list}  # Mark all vertices as not visited\n",
        "        stack = []  # Initialize an empty stack for the result\n",
        "\n",
        "        # Iterate through all vertices to perform DFS for topological sorting\n",
        "        for vertex in self.adj_list:\n",
        "            if not visited[vertex]:  # If the vertex is not visited yet\n",
        "                self.topological_sort_util(vertex, visited, stack)  # Perform DFS on the vertex\n",
        "\n",
        "        return stack[::-1]  # Return the stack containing the topological sorting order\n",
        "\n",
        "# Example usage\n",
        "graph = DirectedGraph()\n",
        "graph.add_edge('A', 'B')\n",
        "graph.add_edge('B', 'C')\n",
        "graph.add_edge('B', 'D')\n",
        "graph.add_edge('C', 'E')\n",
        "graph.add_edge('D', 'E')\n",
        "graph.add_edge('E', 'F')\n",
        "\n",
        "sorted_order = graph.topological_sort()\n",
        "print(\"Topological Sorting:\", sorted_order)\n"
      ],
      "metadata": {
        "colab": {
          "base_uri": "https://localhost:8080/"
        },
        "id": "XUaEXXk6mv-V",
        "outputId": "26a6c19a-201b-416e-e25d-66521572f614"
      },
      "execution_count": 18,
      "outputs": [
        {
          "output_type": "stream",
          "name": "stdout",
          "text": [
            "Topological Sorting: ['A', 'B', 'D', 'C', 'E', 'F']\n"
          ]
        }
      ]
    },
    {
      "cell_type": "markdown",
      "source": [
        "## <a name=\"applications\"></a> **Real World Applications and Resources**\n"
      ],
      "metadata": {
        "id": "8yq8gNipNrnJ"
      }
    },
    {
      "cell_type": "markdown",
      "source": [
        "\n",
        "### 1. Adjacency Matrices and Adjacency Lists\n",
        "\n",
        " - **Social Networks**: In social network analysis, an adjacency matrix can represent relationships between individuals. The matrix can indicate whether two individuals are friends or connected in some way. It's used for analyzing network properties, finding influential individuals, and understanding social dynamics.\n",
        " - **Web Page Linkages**: For web pages, an adjacency matrix can represent links between pages. This is used in web ranking algorithms (like PageRank) to determine the importance of a web page based on its links and the links of pages that link to it.\n",
        "\n",
        "### 2. Breadth-First Search\n",
        "\n",
        " - **Shortest Path Finding**: BFS can be used to find the shortest path between two nodes in an unweighted graph. This is useful in navigation systems, map routing applications, and logistics planning.\n",
        " - **Broadcasting and Networking**: BFS can simulate broadcasting in networks. It helps in broadcasting messages efficiently to all nodes within a certain distance from the source node. Also, BFS can be used to find the shortest path for data packets to traverse through a network of routers or nodes.\n",
        "\n",
        "### 3. Depth-First Search\n",
        "\n",
        "  - **Maze Solving**: DFS can be used to solve mazes by exploring possible paths deeply before backtracking. It's commonly applied in robotics and automated systems to navigate through complex environments.\n",
        "\n",
        "  - **Topological Sorting**: In project scheduling and task dependencies, DFS can be used to perform topological sorting, helping to determine the order in which tasks should be executed.\n",
        "\n",
        "### Resources/Tools for learning\n",
        "- Depth First Search Visualization tool developed by USF is a great tool to help understand DFS in a visual manner: https://www.cs.usfca.edu/~galles/visualization/DFS.html\n",
        "- Breadth First Search visualization tool developed by USF is great too: https://www.cs.usfca.edu/~galles/visualization/BFS.html\n",
        "- Adjacency Matrix tool: https://graphonline.ru/en/create_graph_by_matrix\n"
      ],
      "metadata": {
        "id": "y3Z7PypXJjhy"
      }
    },
    {
      "cell_type": "markdown",
      "source": [
        " ## **Quiz**"
      ],
      "metadata": {
        "id": "MM2Mm-iJwZvt"
      }
    },
    {
      "cell_type": "markdown",
      "source": [
        "Time to test your knowledge with a small quiz!"
      ],
      "metadata": {
        "id": "V2CAbvYpwfyS"
      }
    },
    {
      "cell_type": "markdown",
      "source": [
        "## <a name=\"refs\"></a>**References**"
      ],
      "metadata": {
        "id": "ghJTIpxxRujc"
      }
    },
    {
      "cell_type": "markdown",
      "source": [
        "\n",
        "\n",
        "1. Kleinberg, J., & Tardos, É. (2021). Algorithm Design. Pearson.\n",
        "2. Cormen, T. H., Leiserson, C. E., Rivest, R. L., & Stein, C. (2009). Introduction to Algorithms. MIT Press.\n",
        "3.   [GeeksForGeeks](https://www.geeksforgeeks.org/)\n",
        "4.   [Programiz](https://www.programiz.com/dsa/graph)\n",
        "5. [Cornell CS2112 material](https://www.cs.cornell.edu/courses/cs2112/2012sp/lectures/lec24/lec24-12sp.html)\n",
        "\n",
        "\n"
      ],
      "metadata": {
        "id": "sShHS7PtRyTc"
      }
    }
  ]
}