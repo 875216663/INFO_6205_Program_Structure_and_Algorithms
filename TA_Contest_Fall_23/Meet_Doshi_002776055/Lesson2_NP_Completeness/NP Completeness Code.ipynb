{
 "cells": [
  {
   "cell_type": "code",
   "execution_count": 1,
   "id": "1aa8be11",
   "metadata": {},
   "outputs": [],
   "source": [
    "def tsp(graph):\n",
    "    n = len(graph)\n",
    "    memo = {}  # Memoization dictionary\n",
    "    \n",
    "    def tsp_helper(mask, current):\n",
    "        if mask == (1 << n) - 1:\n",
    "            return graph[current][0]  # Return to starting city\n",
    "        \n",
    "        if (mask, current) in memo:\n",
    "            return memo[(mask, current)]\n",
    "        \n",
    "        min_distance = float('inf')\n",
    "        for city in range(n):\n",
    "            if (mask >> city) & 1 == 0:  # If city not visited\n",
    "                new_mask = mask | (1 << city)\n",
    "                distance = graph[current][city] + tsp_helper(new_mask, city)\n",
    "                min_distance = min(min_distance, distance)\n",
    "        \n",
    "        memo[(mask, current)] = min_distance\n",
    "        return min_distance\n",
    "    \n",
    "    min_path_distance = tsp_helper(1, 0)  # Start from city 0\n",
    "    return min_path_distance"
   ]
  },
  {
   "cell_type": "code",
   "execution_count": 2,
   "id": "5ae02287",
   "metadata": {},
   "outputs": [
    {
     "name": "stdout",
     "output_type": "stream",
     "text": [
      "Minimum Distance: 73\n"
     ]
    }
   ],
   "source": [
    "# Example usage\n",
    "graph = [\n",
    "    [0, 29, 20, 21],\n",
    "    [29, 0, 15, 17],\n",
    "    [20, 15, 0, 28],\n",
    "    [21, 17, 28, 0]\n",
    "]\n",
    "\n",
    "min_distance = tsp(graph)\n",
    "print(\"Minimum Distance:\", min_distance)"
   ]
  }
 ],
 "metadata": {
  "kernelspec": {
   "display_name": "Python 3 (ipykernel)",
   "language": "python",
   "name": "python3"
  },
  "language_info": {
   "codemirror_mode": {
    "name": "ipython",
    "version": 3
   },
   "file_extension": ".py",
   "mimetype": "text/x-python",
   "name": "python",
   "nbconvert_exporter": "python",
   "pygments_lexer": "ipython3",
   "version": "3.9.12"
  }
 },
 "nbformat": 4,
 "nbformat_minor": 5
}
