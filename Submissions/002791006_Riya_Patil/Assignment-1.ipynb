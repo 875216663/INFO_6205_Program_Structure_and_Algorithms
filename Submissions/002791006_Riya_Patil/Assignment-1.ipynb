{
 "cells": [
  {
   "cell_type": "markdown",
   "metadata": {},
   "source": [
    "# Assignment-1"
   ]
  },
  {
   "cell_type": "markdown",
   "metadata": {},
   "source": [
    "## Student Name : Riya Patil\n",
    "## Professor : Nik Bear Brown"
   ]
  },
  {
   "cell_type": "markdown",
   "metadata": {},
   "source": [
    "## Q1. Arrange the following functions in increasing order of growth:\n",
    "• 2^(n/2)\n",
    "• n^2 * log(n)\n",
    "• √(n!)\n",
    "• n^(3/2)\n",
    "• 3^n\n",
    "• n^log(n)\n",
    "• 10n + 30\n",
    "• log(log(n))\n",
    "• 100n\n",
    "• n^3\n",
    "\n",
    "### Solution:\n",
    "The list of functions in increasing order of growth is:\n",
    "1. 10n + 30\n",
    "2. √(n!)\n",
    "3. 2^(n/2)\n",
    "4. n^(3/2)\n",
    "5. n^2 * log(n)\n",
    "6. n^log(n)\n",
    "7. log(log(n))\n",
    "8. 100n\n",
    "9. 3^n\n",
    "10. n^3\n",
    "\n",
    "### Reflection:\n",
    "o\tI approached this problem with a systematic strategy to better understand and solve it. Initially, I took the time to carefully analyze the given question. Breaking it down, I recognized the need to compare the growth rates of various mathematical functions as 'n' approaches infinity. Understanding the core of the problem was crucial to ensure an accurate solution.\n",
    "o\tNext, to reinforce my comprehension and challenge myself further, I decided to request ChatGPT to craft a similar question. This not only solidified my understanding but also provided an opportunity to apply the knowledge gained from the initial question to create a new one.\n",
    "o\tOne of the essential steps in solving this type of problem is visualization. To demonstrate the growth rates visually, I turned to an online graph creator tool. By inputting values of 'n' and calculating the corresponding values of each function, I obtained a set of data points. These data points were then plotted on graphs for each function.\n",
    "o\tFinally, with the graphed data in hand, I carefully examined and analyzed the trends and patterns. This step allowed me to arrange the functions in the desired order of growth accurately. I understood that the functions that grew slower approached the bottom of the list, while those with faster growth occupied the higher positions."
   ]
  },
  {
   "cell_type": "markdown",
   "metadata": {},
   "source": [
    "## Q2. Assume you have functions p and q such that p(n) is O(q(n)). For each of the following statements, decide whether it is true or false and provide proof or a counterexample.\n",
    "1. p(n) = Ω (p(√n))\n",
    "2. p(n) = O(p(n3)))\n",
    "3. p(n) = Θ(q(n))) implies (q(n) = Θ (p(n)))\n",
    "\n",
    "### Solution:\n",
    "1. p(n) = Ω (p(√n))\n",
    "True: This statement is true. If p(n) = Ω (p(√n)), it means that p(n) grows at least as fast as (p(√n)). This is often the case for functions with exponential or polynomial growth.\n",
    "Counterexample: Consider p(n) = log(n). This function grows logarithmically. However, p(√n) = log(√n) = log(n1/2 ) = ½ log(n), which grows slower than p(n). Therefore, p(n) = Ω (p(√n)) is true.\n",
    "\n",
    "2. p(n) = O(p(n3)))\n",
    "True: This statement is also true. If p(n) = O(p(n3))), it means that p(n) grows at a slower rate than p(n3). This can be demonstrated by choosing a specific function p(n)  and showing that there exists a constant c and a value of n0 such that p(n) <= c.p(n3) for all n>=n0.\n",
    "Counterexample: Let p(n) = n and c = 1. For any n>=1, we have n<=1.n3, which is true. Therefore, p(n) = O(p(n3))) is true.\n",
    "\n",
    "3. p(n) = Θ(q(n))) implies (q(n) = Θ (p(n)))\n",
    "False: This statement is false. If p(n) = Θ(q(n))) implies (q(n) = Θ (p(n))), it means that p(n) and q(n) grow at the same rate. However, this doesn't necessarily imply that q(n) and p(n) have the same rate of growth in reverse. For example, consider p(n) = n2 and q(n) = n3. p(n) = Θ (q(n)) is true, but q(n) is not Θ (p(n))) because q(n) grows faster than p(n).\n",
    "Counterexample: Consider p(n) = n and q(n) = n2. If p(n) = Θ (q(n))), it means that both functions grow at the same rate. However, q(n) = n2 and p(n) = n have different growth rates. Therefore, p(n) = Θ(q(n))))) is false.\n",
    "\n",
    "Reflection:"
   ]
  },
  {
   "cell_type": "code",
   "execution_count": 5,
   "metadata": {},
   "outputs": [
    {
     "name": "stdout",
     "output_type": "stream",
     "text": [
      "Hotspot 1: Top-left: (1, 0, 2), Bottom-right: (0, 1, 2), Time Range: (2, 2)\n",
      "Hotspot 2: Top-left: (0, 2, 0), Bottom-right: (0, 1, 1), Time Range: (0, 0)\n",
      "Hotspot 3: Top-left: (1, 1, 1), Bottom-right: (0, 2, 1), Time Range: (1, 1)\n",
      "Hotspot 4: Top-left: (1, 1, 2), Bottom-right: (0, 2, 2), Time Range: (2, 2)\n",
      "Hotspot 5: Top-left: (1, 2, 0), Bottom-right: (0, 3, 0), Time Range: (0, 0)\n",
      "Hotspot 6: Top-left: (1, 2, 2), Bottom-right: (0, 1, 2), Time Range: (2, 2)\n",
      "Hotspot 7: Top-left: (1, 3, 0), Bottom-right: (0, 3, 1), Time Range: (0, 0)\n",
      "Hotspot 8: Top-left: (1, 3, 2), Bottom-right: (0, 2, 2), Time Range: (2, 2)\n",
      "Hotspot 9: Top-left: (1, 1, 1), Bottom-right: (1, 0, 2), Time Range: (1, 1)\n",
      "Hotspot 10: Top-left: (1, 1, 2), Bottom-right: (1, 0, 3), Time Range: (2, 2)\n",
      "Hotspot 11: Top-left: (1, 2, 0), Bottom-right: (1, 1, 1), Time Range: (0, 0)\n",
      "Hotspot 12: Top-left: (0, 1, 1), Bottom-right: (1, 2, 1), Time Range: (1, 1)\n",
      "Hotspot 13: Top-left: (0, 1, 2), Bottom-right: (1, 0, 2), Time Range: (2, 2)\n",
      "Hotspot 14: Top-left: (0, 2, 0), Bottom-right: (1, 3, 0), Time Range: (0, 0)\n",
      "Hotspot 15: Top-left: (0, 2, 2), Bottom-right: (1, 1, 2), Time Range: (2, 2)\n",
      "Hotspot 16: Top-left: (0, 3, 0), Bottom-right: (1, 3, 1), Time Range: (0, 0)\n",
      "Hotspot 17: Top-left: (0, 3, 2), Bottom-right: (1, 2, 2), Time Range: (2, 2)\n"
     ]
    }
   ],
   "source": [
    "def find_hotspots(grid, threshold, min_duration):\n",
    "    hotspots = []\n",
    "\n",
    "    n = len(grid)\n",
    "    m = len(grid[0])\n",
    "    t = len(grid[0][0])\n",
    "\n",
    "    def is_valid(i, j, k):\n",
    "        return 0 <= i < n and 0 <= j < m and 0 <= k < t\n",
    "\n",
    "    def explore(i, j, k, start_time):\n",
    "        nonlocal hotspot_start, hotspot_end\n",
    "\n",
    "        if is_valid(i, j, k) and grid[i][j][k] >= threshold:\n",
    "            if hotspot_start is None:\n",
    "                hotspot_start = (i, j, k, start_time)\n",
    "            else:\n",
    "                hotspot_end = (i, j, k, start_time)\n",
    "        else:\n",
    "            if hotspot_start is not None and hotspot_end is not None:\n",
    "                hotspot_duration = hotspot_end[3] - hotspot_start[3] + 1\n",
    "                #print(\"{}, {}\".format(hotspot_duration,min_duration))\n",
    "                if hotspot_duration >= min_duration:\n",
    "                    hotspots.append((hotspot_start[:3], hotspot_end[:3], (hotspot_start[3], hotspot_end[3])))\n",
    "                hotspot_start = hotspot_end = None\n",
    "\n",
    "    for i in range(n):\n",
    "        for j in range(m):\n",
    "            for k in range(t):\n",
    "                hotspot_start = hotspot_end = None\n",
    "                start_time = k\n",
    "\n",
    "                explore(i + 1, j, k, start_time)\n",
    "                explore(i - 1, j, k, start_time)\n",
    "                explore(i, j + 1, k, start_time)\n",
    "                explore(i, j - 1, k, start_time)\n",
    "                explore(i, j, k + 1, start_time)\n",
    "                explore(i, j, k - 1, start_time)\n",
    "\n",
    "    return hotspots\n",
    "\n",
    "# Example Usage:\n",
    "temperature_data = [\n",
    "    [\n",
    "        [25, 28, 31, 32],\n",
    "        [30, 32, 32, 30],\n",
    "        [35, 36, 32, 30],\n",
    "        [32, 34, 33, 28]\n",
    "    ],\n",
    "    [\n",
    "        [26, 29, 32, 33],\n",
    "        [31, 33, 33, 31],\n",
    "        [36, 37, 33, 31],\n",
    "        [33, 35, 34, 29]\n",
    "    ]\n",
    "]\n",
    "\n",
    "threshold_temperature = 32\n",
    "min_duration_months = 1\n",
    "\n",
    "hotspots = find_hotspots(temperature_data, threshold_temperature, min_duration_months)\n",
    "\n",
    "# Print the identified hotspots\n",
    "for i, hotspot in enumerate(hotspots, 1):\n",
    "    print(f'Hotspot {i}: Top-left: {hotspot[0]}, Bottom-right: {hotspot[1]}, Time Range: {hotspot[2]}')\n"
   ]
  }
 ],
 "metadata": {
  "kernelspec": {
   "display_name": "base",
   "language": "python",
   "name": "python3"
  },
  "language_info": {
   "codemirror_mode": {
    "name": "ipython",
    "version": 3
   },
   "file_extension": ".py",
   "mimetype": "text/x-python",
   "name": "python",
   "nbconvert_exporter": "python",
   "pygments_lexer": "ipython3",
   "version": "3.11.4"
  },
  "orig_nbformat": 4
 },
 "nbformat": 4,
 "nbformat_minor": 2
}
